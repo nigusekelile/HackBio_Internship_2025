{
 "cells": [
  {
   "cell_type": "code",
   "execution_count": 2,
   "id": "b20ac9e6-3251-4d16-a7db-1ee411574600",
   "metadata": {
    "editable": true,
    "slideshow": {
     "slide_type": ""
    },
    "tags": []
   },
   "outputs": [],
   "source": [
    "import os"
   ]
  },
  {
   "cell_type": "code",
   "execution_count": 2,
   "id": "72940f4f-bb10-4446-8d9b-3067268fa7ca",
   "metadata": {
    "editable": true,
    "slideshow": {
     "slide_type": ""
    },
    "tags": []
   },
   "outputs": [
    {
     "name": "stdout",
     "output_type": "stream",
     "text": [
      "/home/nigus/HackBio/HackBio_Internship_2025\n"
     ]
    }
   ],
   "source": [
    "print(os.getcwd())"
   ]
  },
  {
   "cell_type": "code",
   "execution_count": 3,
   "id": "c9a68111-02cc-4f2d-bc06-ff4fc55149fb",
   "metadata": {},
   "outputs": [],
   "source": [
    "def translate_to_protein(seq): \n",
    "\t\n",
    "\ttable = { \n",
    "\t\t'ATA':'I', 'ATC':'I', 'ATT':'I', 'ATG':'M', \n",
    "\t\t'ACA':'T', 'ACC':'T', 'ACG':'T', 'ACT':'T', \n",
    "\t\t'AAC':'N', 'AAT':'N', 'AAA':'K', 'AAG':'K', \n",
    "\t\t'AGC':'S', 'AGT':'S', 'AGA':'R', 'AGG':'R',\t\t\t\t \n",
    "\t\t'CTA':'L', 'CTC':'L', 'CTG':'L', 'CTT':'L', \n",
    "\t\t'CCA':'P', 'CCC':'P', 'CCG':'P', 'CCT':'P', \n",
    "\t\t'CAC':'H', 'CAT':'H', 'CAA':'Q', 'CAG':'Q', \n",
    "\t\t'CGA':'R', 'CGC':'R', 'CGG':'R', 'CGT':'R', \n",
    "\t\t'GTA':'V', 'GTC':'V', 'GTG':'V', 'GTT':'V', \n",
    "\t\t'GCA':'A', 'GCC':'A', 'GCG':'A', 'GCT':'A', \n",
    "\t\t'GAC':'D', 'GAT':'D', 'GAA':'E', 'GAG':'E', \n",
    "\t\t'GGA':'G', 'GGC':'G', 'GGG':'G', 'GGT':'G', \n",
    "\t\t'TCA':'S', 'TCC':'S', 'TCG':'S', 'TCT':'S', \n",
    "\t\t'TTC':'F', 'TTT':'F', 'TTA':'L', 'TTG':'L', \n",
    "\t\t'TAC':'Y', 'TAT':'Y', 'TAA':'_', 'TAG':'_', \n",
    "\t\t'TGC':'C', 'TGT':'C', 'TGA':'_', 'TGG':'W', \n",
    "\t} \n",
    "\tprotein =\"\" \n",
    "\tif len(seq)%3 == 0: \n",
    "\t\tfor i in range(0, len(seq), 3): \n",
    "\t\t\tcodon = seq[i:i + 3] \n",
    "\t\t\tprotein+= table[codon] \n",
    "\treturn protein \n"
   ]
  },
  {
   "cell_type": "code",
   "execution_count": 4,
   "id": "7726ccfc-be7b-4bd2-a473-e50200944b2c",
   "metadata": {},
   "outputs": [
    {
     "name": "stdout",
     "output_type": "stream",
     "text": [
      "MCYWCYWHPSNKA_\n"
     ]
    }
   ],
   "source": [
    "dna_sequence = \"ATGTGTTATTGGTGTTATTGGCATCCCAGTAATAAAGCGTAA\"\n",
    "protein = translate_to_protein(dna_sequence)\n",
    "print(protein) "
   ]
  },
  {
   "cell_type": "code",
   "execution_count": 5,
   "id": "c5db9702-dbd8-4a10-9dc9-4f0688b3ec4d",
   "metadata": {},
   "outputs": [],
   "source": [
    "import numpy as np\n",
    "import pandas as pd\n",
    "\n",
    "def simulate_logistic_growth_curve(\n",
    "    K=100, r=0.1, N0=1, t_max=100, lag_randomness=5, exp_randomness=10\n",
    "):\n",
    "    \"\"\"\n",
    "    Simulates a logistic population growth curve with randomized lag and exponential phases.\n",
    "    \n",
    "    Parameters:\n",
    "        K (float): Carrying capacity (maximum population size).\n",
    "        r (float): Intrinsic growth rate.\n",
    "        N0 (float): Initial population size.\n",
    "        t_max (int): Maximum time for simulation.\n",
    "        lag_randomness (float): Randomization factor for the length of the lag phase.\n",
    "        exp_randomness (float): Randomization factor for the length of the exponential phase.\n",
    "        \n",
    "    Returns:\n",
    "        pd.DataFrame: DataFrame containing time and population size.\n",
    "    \"\"\"\n",
    "    # Randomize lag and exponential phases\n",
    "    lag_phase = np.random.uniform(0, lag_randomness)\n",
    "    exp_phase = np.random.uniform(0, exp_randomness)\n",
    "    \n",
    "    # Define time points\n",
    "    t = np.arange(0, t_max, 1)\n",
    "    \n",
    "    # Define population growth\n",
    "    N = []\n",
    "    for time in t:\n",
    "        if time < lag_phase:\n",
    "            # Lag phase: no growth\n",
    "            N_t = N0\n",
    "        elif time < lag_phase + exp_phase:\n",
    "            # Exponential phase: rapid growth\n",
    "            N_t = N0 * np.exp(r * (time - lag_phase))\n",
    "        else:\n",
    "            # Logistic phase: slows down as it approaches K\n",
    "            N_t = K / (1 + ((K - N0) / N0) * np.exp(-r * (time - lag_phase - exp_phase)))\n",
    "        N.append(N_t)\n",
    "    \n",
    "    # Create DataFrame\n",
    "    df = pd.DataFrame({'Time': t, 'Population_Size': N})\n",
    "    return df\n",
    "\n",
    "\n",
    "# Generate 100 different growth curves\n",
    "curves = [simulate_logistic_growth_curve() for _ in range(100)]\n",
    "combined_df = pd.concat(curves, keys=range(100)).reset_index(level=0).rename(columns={'level_0': 'Curve_ID'})"
   ]
  },
  {
   "cell_type": "code",
   "execution_count": 6,
   "id": "fa6f7488-75c4-483c-950e-a730d6ba066c",
   "metadata": {},
   "outputs": [
    {
     "name": "stdout",
     "output_type": "stream",
     "text": [
      "   Time  Population_Size\n",
      "0     0         1.000000\n",
      "1     1         1.000000\n",
      "2     2         1.000000\n",
      "3     3         1.018147\n",
      "4     4         1.125227\n"
     ]
    }
   ],
   "source": [
    "curve = simulate_logistic_growth_curve(K=100, r=0.1, N0=1, t_max=100)\n",
    "print(curve.head())"
   ]
  },
  {
   "cell_type": "code",
   "execution_count": 7,
   "id": "e32a02fa-d999-494d-9cb6-7012e93e9c98",
   "metadata": {},
   "outputs": [],
   "source": [
    "def time_to_reach_80_percent(dataframe):\n",
    "    \"\"\"\n",
    "    Determines the time at which the population reaches 80% of the carrying capacity.\n",
    "    \n",
    "    Parameters:\n",
    "        dataframe (pd.DataFrame): DataFrame containing 'Time' and 'Population_Size'.\n",
    "        \n",
    "    Returns:\n",
    "        float: Time when the population reaches 80% of the carrying capacity.\n",
    "    \"\"\"\n",
    "    # Calculate 80% of the carrying capacity\n",
    "    max_population = dataframe['Population_Size'].max()\n",
    "    target_population = 0.8 * max_population\n",
    "    \n",
    "    # Find the first time point where the population exceeds 80%\n",
    "    time_to_80 = dataframe[dataframe['Population_Size'] >= target_population]['Time'].min()\n",
    "    \n",
    "    return time_to_80"
   ]
  },
  {
   "cell_type": "code",
   "execution_count": 8,
   "id": "52348c21-84df-4a3f-9014-aa0d38f92fc2",
   "metadata": {},
   "outputs": [
    {
     "name": "stdout",
     "output_type": "stream",
     "text": [
      "Time to reach 80% of maximum growth: 69\n"
     ]
    }
   ],
   "source": [
    "time = time_to_reach_80_percent(curve)\n",
    "print(f\"Time to reach 80% of maximum growth: {time}\")"
   ]
  },
  {
   "cell_type": "code",
   "execution_count": 9,
   "id": "fb37b1af-62b8-49da-a9f3-ed2083100967",
   "metadata": {},
   "outputs": [],
   "source": [
    "def calculate_hamming_distance(slack_username, twitter_handle):\n",
    "    \"\"\"\n",
    "    Calculates the Hamming distance between two strings (Slack username and Twitter/X handle).\n",
    "    If the strings are not of the same length, they are padded with spaces.\n",
    "    \n",
    "    Parameters:\n",
    "        slack_username (str): Your Slack username.\n",
    "        twitter_handle (str): Your Twitter/X handle.\n",
    "        \n",
    "    Returns:\n",
    "        int: The Hamming distance between the two strings.\n",
    "    \"\"\"\n",
    "    # Pad shorter string with spaces to match lengths\n",
    "    max_length = max(len(slack_username), len(twitter_handle))\n",
    "    slack_padded = slack_username.ljust(max_length)\n",
    "    twitter_padded = twitter_handle.ljust(max_length)\n",
    "    \n",
    "    # Calculate Hamming distance\n",
    "    hamming_distance = sum(1 for a, b in zip(slack_padded, twitter_padded) if a != b)\n",
    "    \n",
    "    return hamming_distance\n"
   ]
  },
  {
   "cell_type": "code",
   "execution_count": 10,
   "id": "18b96db5-feb5-421c-93d9-774d2f8b4e76",
   "metadata": {},
   "outputs": [
    {
     "name": "stdout",
     "output_type": "stream",
     "text": [
      "Hamming Distance: 6\n"
     ]
    }
   ],
   "source": [
    "slack_username = \"Niguse\"\n",
    "twitter_handle = \"NiguseKelile\"\n",
    "distance = calculate_hamming_distance(slack_username, twitter_handle)\n",
    "print(f\"Hamming Distance: {distance}\")  # Output: 9"
   ]
  },
  {
   "cell_type": "code",
   "execution_count": 11,
   "id": "3f06eb01-fec9-4f99-8d25-2b6786df74cd",
   "metadata": {
    "editable": true,
    "slideshow": {
     "slide_type": ""
    },
    "tags": []
   },
   "outputs": [
    {
     "name": "stdout",
     "output_type": "stream",
     "text": [
      "This is the Final\n"
     ]
    }
   ],
   "source": [
    "print(\"This is the Final\")"
   ]
  },
  {
   "cell_type": "code",
   "execution_count": null,
   "id": "7778f511-f330-476d-8fdf-9841b64f33ce",
   "metadata": {},
   "outputs": [],
   "source": []
  }
 ],
 "metadata": {
  "kernelspec": {
   "display_name": "Python 3 (ipykernel)",
   "language": "python",
   "name": "python3"
  },
  "language_info": {
   "codemirror_mode": {
    "name": "ipython",
    "version": 3
   },
   "file_extension": ".py",
   "mimetype": "text/x-python",
   "name": "python",
   "nbconvert_exporter": "python",
   "pygments_lexer": "ipython3",
   "version": "3.12.8"
  },
  "toc": {
   "base_numbering": 1
  }
 },
 "nbformat": 4,
 "nbformat_minor": 5
}
