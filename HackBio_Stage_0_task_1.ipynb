{
 "cells": [
  {
   "cell_type": "code",
   "execution_count": 9,
   "id": "2a9b41af-958b-474a-bc53-9928421f1a09",
   "metadata": {
    "editable": true,
    "slideshow": {
     "slide_type": ""
    },
    "tags": []
   },
   "outputs": [],
   "source": [
    "import os"
   ]
  },
  {
   "cell_type": "code",
   "execution_count": 10,
   "id": "491d87ae-ffc1-4c06-a61f-b0683d9b749b",
   "metadata": {},
   "outputs": [
    {
     "data": {
      "text/plain": [
       "'/home/nigus/HackBio/HackBio_Internship_2025'"
      ]
     },
     "execution_count": 10,
     "metadata": {},
     "output_type": "execute_result"
    }
   ],
   "source": [
    "os.getcwd()"
   ]
  },
  {
   "cell_type": "code",
   "execution_count": 11,
   "id": "eb18db88-9463-45e2-9d60-5925dd08defa",
   "metadata": {},
   "outputs": [],
   "source": [
    "os.chdir(\"/home/nigus/HackBio/HackBio_Internship_2025/\")"
   ]
  },
  {
   "cell_type": "code",
   "execution_count": 12,
   "id": "7d1bce03-6692-49bb-b08b-b250ad41580c",
   "metadata": {},
   "outputs": [
    {
     "data": {
      "text/plain": [
       "'/home/nigus/HackBio/HackBio_Internship_2025'"
      ]
     },
     "execution_count": 12,
     "metadata": {},
     "output_type": "execute_result"
    }
   ],
   "source": [
    "os.getcwd()"
   ]
  },
  {
   "cell_type": "code",
   "execution_count": 13,
   "id": "276402ea-a3eb-48a0-80b2-916db83d197b",
   "metadata": {},
   "outputs": [],
   "source": [
    "Stage0_Task1 = {\n",
    "    \"Stage0_Task1\": {\n",
    "        \"Name\": \"Niguse Kelile Lema\",\n",
    "        \"Slack_Username\": \"Niguse\",\n",
    "        \"Email\": \"nigusmov16@gmail.com\",\n",
    "        \"Hobby\": \"Reading\",\n",
    "        \"Country\": \"Ethiopia\",\n",
    "        \"Discipline\": \"Bioinformatics\",\n",
    "        \"programming_language\": \"Python and R\"\n",
    "    }\n",
    "    }"
   ]
  },
  {
   "cell_type": "code",
   "execution_count": 14,
   "id": "d6c50945-5bdc-4acf-adb1-ee4ad3509048",
   "metadata": {},
   "outputs": [
    {
     "name": "stdout",
     "output_type": "stream",
     "text": [
      "{'Stage0_Task1': {'Name': 'Niguse Kelile Lema', 'Slack_Username': 'Niguse', 'Email': 'nigusmov16@gmail.com', 'Hobby': 'Reading', 'Country': 'Ethiopia', 'Discipline': 'Bioinformatics', 'programming_language': 'Python and R'}}\n"
     ]
    }
   ],
   "source": [
    "print(Stage0_Task1)"
   ]
  },
  {
   "cell_type": "code",
   "execution_count": 15,
   "id": "2fb32cce-1689-419e-b54f-fb85d879ceca",
   "metadata": {},
   "outputs": [
    {
     "data": {
      "text/plain": [
       "dict"
      ]
     },
     "execution_count": 15,
     "metadata": {},
     "output_type": "execute_result"
    }
   ],
   "source": [
    "type(Stage0_Task1)"
   ]
  },
  {
   "cell_type": "code",
   "execution_count": 16,
   "id": "a36b5767-e3fd-4858-9587-ce15d985bef7",
   "metadata": {},
   "outputs": [
    {
     "name": "stdout",
     "output_type": "stream",
     "text": [
      "The final result for HackBio Stage0 task one: {'Stage0_Task1': {'Name': 'Niguse Kelile Lema', 'Slack_Username': 'Niguse', 'Email': 'nigusmov16@gmail.com', 'Hobby': 'Reading', 'Country': 'Ethiopia', 'Discipline': 'Bioinformatics', 'programming_language': 'Python and R'}}\n"
     ]
    }
   ],
   "source": [
    "print(f\"The final result for HackBio Stage0 task one: {Stage0_Task1}\")"
   ]
  },
  {
   "cell_type": "code",
   "execution_count": null,
   "id": "7e5e0fbc-5999-4c45-ae3c-d9f3240cf3fa",
   "metadata": {},
   "outputs": [],
   "source": []
  }
 ],
 "metadata": {
  "kernelspec": {
   "display_name": "Python 3 (ipykernel)",
   "language": "python",
   "name": "python3"
  },
  "language_info": {
   "codemirror_mode": {
    "name": "ipython",
    "version": 3
   },
   "file_extension": ".py",
   "mimetype": "text/x-python",
   "name": "python",
   "nbconvert_exporter": "python",
   "pygments_lexer": "ipython3",
   "version": "3.12.8"
  }
 },
 "nbformat": 4,
 "nbformat_minor": 5
}
