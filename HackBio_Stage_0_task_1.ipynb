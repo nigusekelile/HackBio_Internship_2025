{
 "cells": [
  {
   "cell_type": "code",
   "execution_count": 6,
   "id": "2a9b41af-958b-474a-bc53-9928421f1a09",
   "metadata": {},
   "outputs": [],
   "source": [
    "import os"
   ]
  },
  {
   "cell_type": "code",
   "execution_count": 7,
   "id": "491d87ae-ffc1-4c06-a61f-b0683d9b749b",
   "metadata": {},
   "outputs": [
    {
     "data": {
      "text/plain": [
       "'/home/nigus/HackBio'"
      ]
     },
     "execution_count": 7,
     "metadata": {},
     "output_type": "execute_result"
    }
   ],
   "source": [
    "os.getcwd()"
   ]
  },
  {
   "cell_type": "code",
   "execution_count": 8,
   "id": "eb18db88-9463-45e2-9d60-5925dd08defa",
   "metadata": {},
   "outputs": [],
   "source": [
    "os.chdir(\"/home/nigus/HackBio/\")"
   ]
  },
  {
   "cell_type": "code",
   "execution_count": 9,
   "id": "7d1bce03-6692-49bb-b08b-b250ad41580c",
   "metadata": {},
   "outputs": [
    {
     "data": {
      "text/plain": [
       "'/home/nigus/HackBio'"
      ]
     },
     "execution_count": 9,
     "metadata": {},
     "output_type": "execute_result"
    }
   ],
   "source": [
    "os.getcwd()"
   ]
  },
  {
   "cell_type": "code",
   "execution_count": null,
   "id": "276402ea-a3eb-48a0-80b2-916db83d197b",
   "metadata": {},
   "outputs": [],
   "source": []
  }
 ],
 "metadata": {
  "kernelspec": {
   "display_name": "Python 3 (ipykernel)",
   "language": "python",
   "name": "python3"
  },
  "language_info": {
   "codemirror_mode": {
    "name": "ipython",
    "version": 3
   },
   "file_extension": ".py",
   "mimetype": "text/x-python",
   "name": "python",
   "nbconvert_exporter": "python",
   "pygments_lexer": "ipython3",
   "version": "3.12.8"
  }
 },
 "nbformat": 4,
 "nbformat_minor": 5
}
